{
 "cells": [
  {
   "cell_type": "markdown",
   "metadata": {},
   "source": [
    "# Brownian Motion Simulation\n",
    "\n",
    "This notebook simulates 1D Brownian motion using a normal distribution."
   ]
  },
  {
   "cell_type": "code",
   "execution_count": null,
   "metadata": {},
   "outputs": [],
   "source": [
    "import numpy as np\n",
    "import matplotlib.pyplot as plt\n",
    "\n",
    "def simulate_bm(n=1000, T=1, mu=0, sigma=1):\n",
    "    dt = T / n\n",
    "    steps = np.random.normal(mu * dt, sigma * np.sqrt(dt), size=n)\n",
    "    return np.cumsum(steps)\n",
    "\n",
    "path = simulate_bm()\n",
    "plt.plot(path)\n",
    "plt.title(\"Simulated Brownian Motion\")\n",
    "plt.xlabel(\"Time step\")\n",
    "plt.ylabel(\"Position\")\n",
    "plt.grid(True)\n",
    "plt.show()"
   ]
  }
 ],
 "metadata": {
  "kernelspec": {
   "display_name": "Python 3.13.3 (quant-lab)",
   "language": "python",
   "name": "python3"
  },
  "language_info": {
   "name": "python",
   "version": "3.13.3"
  }
 },
 "nbformat": 4,
 "nbformat_minor": 5
}
